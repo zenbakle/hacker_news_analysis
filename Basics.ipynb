{
 "cells": [
  {
   "cell_type": "markdown",
   "metadata": {
    "collapsed": true
   },
   "source": [
    "# Exploring Hacker News Posts"
   ]
  },
  {
   "cell_type": "markdown",
   "metadata": {},
   "source": [
    "Hacker News is a site started by the startup incubator Y Combinator, where user-submitted stories (known as \"posts\") are voted and commented upon, similar to reddit. Hacker News is extremely popular in technology and startup circles, and posts that make it to the top of Hacker News' listings can get hundreds of thousands of visitors as a result."
   ]
  },
  {
   "cell_type": "markdown",
   "metadata": {},
   "source": [
    "You can find the data set [here](https://www.kaggle.com/hacker-news/hacker-news-posts), but note that it has been reduced from almost 300,000 rows to approximately 20,000 rows by removing all submissions that did not receive any comments, and then randomly sampling from the remaining submissions. Below are descriptions of the columns:"
   ]
  },
  {
   "cell_type": "markdown",
   "metadata": {},
   "source": [
    "* id: The unique identifier from Hacker News for the post\n",
    "* title: The title of the post\n",
    "* url: The URL that the posts links to, if it the post has a URL\n",
    "* num_points: The number of points the post acquired, calculated as the total number of upvotes minus the total number of downvotes\n",
    "* num_comments: The number of comments that were made on the post\n",
    "* author: The username of the person who submitted the post\n",
    "* created_at: The date and time at which the post was submitted"
   ]
  },
  {
   "cell_type": "code",
   "execution_count": 1,
   "metadata": {
    "collapsed": false
   },
   "outputs": [
    {
     "name": "stdout",
     "output_type": "stream",
     "text": [
      "['id', 'title', 'url', 'num_points', 'num_comments', 'author', 'created_at']\n",
      "[['12224879', 'Interactive Dynamic Video', 'http://www.interactivedynamicvideo.com/', '386', '52', 'ne0phyte', '8/4/2016 11:52'], ['10975351', 'How to Use Open Source and Shut the Fuck Up at the Same Time', 'http://hueniverse.com/2016/01/26/how-to-use-open-source-and-shut-the-fuck-up-at-the-same-time/', '39', '10', 'josep2', '1/26/2016 19:30'], ['11964716', \"Florida DJs May Face Felony for April Fools' Water Joke\", 'http://www.thewire.com/entertainment/2013/04/florida-djs-april-fools-water-joke/63798/', '2', '1', 'vezycash', '6/23/2016 22:20'], ['11919867', 'Technology ventures: From Idea to Enterprise', 'https://www.amazon.com/Technology-Ventures-Enterprise-Thomas-Byers/dp/0073523429', '3', '1', 'hswarna', '6/17/2016 0:01'], ['10301696', 'Note by Note: The Making of Steinway L1037 (2007)', 'http://www.nytimes.com/2007/11/07/movies/07stein.html?_r=0', '8', '2', 'walterbell', '9/30/2015 4:12'], ['10482257', 'Title II kills investment? Comcast and other ISPs are now spending more', 'http://arstechnica.com/business/2015/10/comcast-and-other-isps-boost-network-investment-despite-net-neutrality/', '53', '22', 'Deinos', '10/31/2015 9:48']]\n"
     ]
    }
   ],
   "source": [
    "from csv import reader\n",
    "opened_file = open(\"hacker_news.csv\")\n",
    "read_file = reader(opened_file)\n",
    "data_as_list = list(read_file)\n",
    "hn_header = data_as_list[0]\n",
    "hn = data_as_list[1:]\n",
    "print(hn_header)\n",
    "print(hn[:6])"
   ]
  },
  {
   "cell_type": "markdown",
   "metadata": {},
   "source": [
    "We're specifically interested in posts whose titles begin with either Ask HN or Show HN. Users submit Ask HN posts to ask the Hacker News community a specific question and Show HN posts to show the Hacker News community a project, product, or just generally something interesting. "
   ]
  },
  {
   "cell_type": "code",
   "execution_count": 2,
   "metadata": {
    "collapsed": false
   },
   "outputs": [
    {
     "name": "stdout",
     "output_type": "stream",
     "text": [
      "1744\n",
      "1162\n",
      "17194\n"
     ]
    }
   ],
   "source": [
    "#Create three empty lists called ask_posts, show_posts, and other_posts.\n",
    "ask_post = []\n",
    "show_post = []\n",
    "other_post = []\n",
    "# creating list of list for the different post titles\n",
    "for row in hn:\n",
    "    title = row[1]\n",
    "    lower = title.lower()\n",
    "    if lower.startswith(\"ask hn\"):\n",
    "        ask_post.append(row)\n",
    "    elif lower.startswith(\"show hn\"):\n",
    "        show_post.append(row)\n",
    "    else:\n",
    "        other_post.append(row)\n",
    "        \n",
    "#printing the lenght of the posts\n",
    "print(len(ask_post))\n",
    "print(len(show_post))\n",
    "print(len(other_post))\n",
    "        "
   ]
  },
  {
   "cell_type": "markdown",
   "metadata": {},
   "source": [
    "The Ask HN post is 1,744 the Show HN is 1,162 in number and other post are 17,194. the Ask post are more than the show post."
   ]
  },
  {
   "cell_type": "markdown",
   "metadata": {},
   "source": [
    "## Calculating the Average Number Of Comments for Ask HN and Show HN Posts"
   ]
  },
  {
   "cell_type": "code",
   "execution_count": 6,
   "metadata": {
    "collapsed": false
   },
   "outputs": [
    {
     "name": "stdout",
     "output_type": "stream",
     "text": [
      "14.038417431192661\n",
      "10.31669535283993\n"
     ]
    }
   ],
   "source": [
    "# calculating the average comments for Ask HN\n",
    "total_ask_comments = 0\n",
    "for post in ask_post:\n",
    "    comments = post[4]\n",
    "    total_ask_comments += int(comments)\n",
    "    \n",
    "avg_ask_comments = total_ask_comments/ len(ask_post)\n",
    "print(avg_ask_comments)\n",
    "\n",
    "# calculating the average comments for Ask HN\n",
    "total_show_comments = 0\n",
    "\n",
    "for post in show_post:\n",
    "    total_show_comments += int(post[4])\n",
    "    \n",
    "avg_show_comments = total_show_comments / len(show_post)\n",
    "print(avg_show_comments)\n",
    "\n"
   ]
  },
  {
   "cell_type": "markdown",
   "metadata": {},
   "source": [
    "The ask post on average has more comments than the show post."
   ]
  },
  {
   "cell_type": "markdown",
   "metadata": {},
   "source": [
    "## Finding the amount of ask posts and comments by hour created."
   ]
  },
  {
   "cell_type": "markdown",
   "metadata": {},
   "source": [
    "Since ask posts are more likely to receive comments, we'll focus our remaining analysis just on these posts.\n",
    "we'll determine if ask posts created at a certain time are more likely to attract comments. "
   ]
  },
  {
   "cell_type": "code",
   "execution_count": 8,
   "metadata": {
    "collapsed": false
   },
   "outputs": [
    {
     "name": "stdout",
     "output_type": "stream",
     "text": [
      "{'10': 59, '15': 116, '13': 85, '05': 46, '06': 44, '12': 73, '18': 109, '02': 58, '23': 68, '07': 34, '11': 58, '20': 80, '17': 100, '01': 60, '19': 110, '22': 71, '08': 48, '16': 108, '04': 47, '03': 54, '09': 45, '14': 107, '00': 55, '21': 109}\n",
      "{'10': 793, '15': 4477, '13': 1253, '05': 464, '06': 397, '12': 687, '18': 1439, '02': 1381, '23': 543, '07': 267, '11': 641, '20': 1722, '17': 1146, '01': 683, '19': 1188, '22': 479, '08': 492, '16': 1814, '04': 337, '03': 421, '09': 251, '14': 1416, '00': 447, '21': 1745}\n"
     ]
    }
   ],
   "source": [
    "import datetime as dt\n",
    "\n",
    "result_list = []\n",
    "for post in ask_post:\n",
    "    created_at = post[6]\n",
    "    comments = post[4]\n",
    "    result_list.append([created_at,int(comments)])\n",
    "    \n",
    "counts_by_hour = {}\n",
    "comments_by_hour = {}\n",
    "date_format = \"%m/%d/%Y %H:%M\"\n",
    "for row in result_list:\n",
    "    date = row[0]\n",
    "    time = dt.datetime.strptime(date, date_format).strftime(\"%H\")\n",
    "    if time not in counts_by_hour:\n",
    "        counts_by_hour[time] = 1\n",
    "        comments_by_hour[time] = row[1]\n",
    "    else:\n",
    "        counts_by_hour[time] += 1\n",
    "        comments_by_hour[time] += row[1]\n",
    "print(counts_by_hour)\n",
    "print(comments_by_hour)"
   ]
  },
  {
   "cell_type": "markdown",
   "metadata": {},
   "source": [
    "## Calculating the average number of comments for ask Hn post by hour"
   ]
  },
  {
   "cell_type": "markdown",
   "metadata": {},
   "source": [
    "we'll use these two dictionaries to calculate the average number of comments for posts created during each hour of the day."
   ]
  },
  {
   "cell_type": "code",
   "execution_count": 9,
   "metadata": {
    "collapsed": false
   },
   "outputs": [
    {
     "data": {
      "text/plain": [
       "[['10', 13.440677966101696],\n",
       " ['15', 38.5948275862069],\n",
       " ['13', 14.741176470588234],\n",
       " ['05', 10.08695652173913],\n",
       " ['06', 9.022727272727273],\n",
       " ['12', 9.41095890410959],\n",
       " ['18', 13.20183486238532],\n",
       " ['02', 23.810344827586206],\n",
       " ['23', 7.985294117647059],\n",
       " ['07', 7.852941176470588],\n",
       " ['11', 11.051724137931034],\n",
       " ['20', 21.525],\n",
       " ['17', 11.46],\n",
       " ['01', 11.383333333333333],\n",
       " ['19', 10.8],\n",
       " ['22', 6.746478873239437],\n",
       " ['08', 10.25],\n",
       " ['16', 16.796296296296298],\n",
       " ['04', 7.170212765957447],\n",
       " ['03', 7.796296296296297],\n",
       " ['09', 5.5777777777777775],\n",
       " ['14', 13.233644859813085],\n",
       " ['00', 8.127272727272727],\n",
       " ['21', 16.009174311926607]]"
      ]
     },
     "execution_count": 9,
     "metadata": {},
     "output_type": "execute_result"
    }
   ],
   "source": [
    "avg_by_hour = []\n",
    "for hour in counts_by_hour:\n",
    "    avg_by_hour.append([hour,comments_by_hour[hour]/counts_by_hour[hour]])\n",
    "avg_by_hour"
   ]
  },
  {
   "cell_type": "markdown",
   "metadata": {},
   "source": [
    "formating the output "
   ]
  },
  {
   "cell_type": "code",
   "execution_count": 13,
   "metadata": {
    "collapsed": false
   },
   "outputs": [
    {
     "name": "stdout",
     "output_type": "stream",
     "text": [
      "[[13.440677966101696, '10'], [38.5948275862069, '15'], [14.741176470588234, '13'], [10.08695652173913, '05'], [9.022727272727273, '06'], [9.41095890410959, '12'], [13.20183486238532, '18'], [23.810344827586206, '02'], [7.985294117647059, '23'], [7.852941176470588, '07'], [11.051724137931034, '11'], [21.525, '20'], [11.46, '17'], [11.383333333333333, '01'], [10.8, '19'], [6.746478873239437, '22'], [10.25, '08'], [16.796296296296298, '16'], [7.170212765957447, '04'], [7.796296296296297, '03'], [5.5777777777777775, '09'], [13.233644859813085, '14'], [8.127272727272727, '00'], [16.009174311926607, '21']]\n",
      "Top 5 Hours for Ask Posts Comments\n",
      "15:00: 38.59 average comments per post\n",
      "02:00: 23.81 average comments per post\n",
      "20:00: 21.52 average comments per post\n",
      "16:00: 16.80 average comments per post\n",
      "21:00: 16.01 average comments per post\n",
      "13:00: 14.74 average comments per post\n"
     ]
    }
   ],
   "source": [
    "swap_avg_by_hour = []\n",
    "for row in avg_by_hour:\n",
    "    swap_avg_by_hour.append([row[1],row[0]])\n",
    "    \n",
    "print(swap_avg_by_hour)\n",
    "\n",
    "#sort swap_avg_by_hour by average \n",
    "sorted_swap = sorted(swap_avg_by_hour,reverse = True)\n",
    "\n",
    "print(\"Top 5 Hours for Ask Posts Comments\")\n",
    "for row in sorted_swap[:6]:\n",
    "    hour = row[1]\n",
    "    time = dt.datetime.strptime(hour, \"%H\").strftime(\"%H:%M:\")\n",
    "    print(\"{} {:.2f} average comments per post\".format(time,row[0]))\n",
    "    "
   ]
  },
  {
   "cell_type": "markdown",
   "metadata": {},
   "source": [
    "from the above output we can see that the hours with higest averages are 15, 2, 20, 16 and 21. form the [documentation](https://www.kaggle.com/hacker-news/hacker-news-posts) the time zone used is Eastern Time in the US which is 5 hours behind Nigerian time. so in Nigerian time the best time to post ASK HN is by 8pm,7am,2am,9pm and 3am. "
   ]
  },
  {
   "cell_type": "markdown",
   "metadata": {},
   "source": [
    "## conclusion"
   ]
  },
  {
   "cell_type": "markdown",
   "metadata": {},
   "source": [
    "In this project, we analyzed the Ask HN post and Show HN post of Hacker news, a platform where user-submitted stories (known as \"posts\") are voted and commented upon.Users submit Ask HN posts to ask the Hacker News community a specific question and Show HN posts to show the Hacker News community a project, product, or just generally something interesting.\n",
    "     We found that on the average the Ask post has more comments than the Show post and when we went ahead to find the best time to post an Ask, we found that on a average the hour that has more comment was 8pm,7am,2am,9pm and 3am Nigerian time."
   ]
  }
 ],
 "metadata": {
  "kernelspec": {
   "display_name": "Python 3",
   "language": "python",
   "name": "python3"
  },
  "language_info": {
   "codemirror_mode": {
    "name": "ipython",
    "version": 3
   },
   "file_extension": ".py",
   "mimetype": "text/x-python",
   "name": "python",
   "nbconvert_exporter": "python",
   "pygments_lexer": "ipython3",
   "version": "3.4.3"
  }
 },
 "nbformat": 4,
 "nbformat_minor": 2
}
